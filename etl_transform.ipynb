{
 "cells": [
  {
   "cell_type": "code",
   "execution_count": 5,
   "id": "79901477",
   "metadata": {},
   "outputs": [
    {
     "name": "stdout",
     "output_type": "stream",
     "text": [
      "✅ Transformed files saved successfully.\n"
     ]
    }
   ],
   "source": [
    "import pandas as pd\n",
    "import os\n",
    "\n",
    "# Step 1: Load data\n",
    "raw = pd.read_csv(\"data/raw_data.csv\")\n",
    "incremental = pd.read_csv(\"data/incremental_data.csv\")\n",
    "\n",
    "# Step 2: Remove duplicates\n",
    "raw = raw.drop_duplicates()\n",
    "incremental = incremental.drop_duplicates()\n",
    "\n",
    "# Step 3: Handle missing values\n",
    "raw = raw.dropna(subset=['customer_name'])\n",
    "incremental = incremental.dropna(subset=['customer_name'])\n",
    "\n",
    "raw['quantity'] = raw['quantity'].fillna(1)\n",
    "incremental['quantity'] = incremental['quantity'].fillna(1)\n",
    "\n",
    "raw['unit_price'] = raw['unit_price'].fillna(raw['unit_price'].mean())\n",
    "incremental['unit_price'] = incremental['unit_price'].fillna(incremental['unit_price'].mean())\n",
    "\n",
    "raw['region'] = raw['region'].fillna(\"Unknown\")\n",
    "incremental['region'] = incremental['region'].fillna(\"Unknown\")\n",
    "\n",
    "# Step 4: Add total_price\n",
    "raw['total_price'] = raw['quantity'] * raw['unit_price']\n",
    "incremental['total_price'] = incremental['quantity'] * incremental['unit_price']\n",
    "\n",
    "# Step 5: Convert order_date\n",
    "raw['order_date'] = pd.to_datetime(raw['order_date'], errors='coerce')\n",
    "incremental['order_date'] = pd.to_datetime(incremental['order_date'], errors='coerce')\n",
    "\n",
    "# Step 6 (Bonus): Add price bands\n",
    "bins = [0, 999, 4999, 9999, float('inf')]\n",
    "labels = ['Low', 'Medium', 'High', 'Very High']\n",
    "raw['price_band'] = pd.cut(raw['total_price'], bins=bins, labels=labels)\n",
    "incremental['price_band'] = pd.cut(incremental['total_price'], bins=bins, labels=labels)\n",
    "\n",
    "# ✅ Step 7: Create folder & Save\n",
    "os.makedirs(\"transformed\", exist_ok=True)\n",
    "raw.to_csv(\"transformed/transformed_full.csv\", index=False)\n",
    "incremental.to_csv(\"transformed/transformed_incremental.csv\", index=False)\n",
    "\n",
    "print(\"✅ Transformed files saved successfully.\")\n"
   ]
  }
 ],
 "metadata": {
  "kernelspec": {
   "display_name": "Python 3",
   "language": "python",
   "name": "python3"
  },
  "language_info": {
   "codemirror_mode": {
    "name": "ipython",
    "version": 3
   },
   "file_extension": ".py",
   "mimetype": "text/x-python",
   "name": "python",
   "nbconvert_exporter": "python",
   "pygments_lexer": "ipython3",
   "version": "3.13.5"
  }
 },
 "nbformat": 4,
 "nbformat_minor": 5
}
