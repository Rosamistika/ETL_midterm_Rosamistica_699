{
 "cells": [
  {
   "cell_type": "code",
   "execution_count": 4,
   "id": "8715f285",
   "metadata": {},
   "outputs": [
    {
     "name": "stdout",
     "output_type": "stream",
     "text": [
      " Preview from full_data.db:\n",
      "   order_id customer_name product  quantity  unit_price  order_date   region  \\\n",
      "0         1         Diana  Tablet       1.0  500.000000  2024-01-20    South   \n",
      "1         2           Eve  Laptop       1.0  492.063492  2024-04-29    North   \n",
      "2         3       Charlie  Laptop       2.0  250.000000  2024-01-08  Unknown   \n",
      "3         4           Eve  Laptop       2.0  750.000000  2024-01-07     West   \n",
      "4         5           Eve  Tablet       3.0  492.063492  2024-03-07    South   \n",
      "\n",
      "   total_price price_band  \n",
      "0   500.000000        Low  \n",
      "1   492.063492        Low  \n",
      "2   500.000000        Low  \n",
      "3  1500.000000     Medium  \n",
      "4  1476.190476     Medium  \n",
      "\n",
      " Preview from incremental_data.db:\n",
      "   order_id customer_name product  quantity  unit_price  order_date   region  \\\n",
      "0       101         Alice  Laptop       1.0       900.0  2024-05-09  Central   \n",
      "1       105         Heidi  Tablet       2.0       600.0  2024-05-21    North   \n",
      "2       109         Grace  Laptop       2.0       600.0  2024-05-29  Central   \n",
      "3       110         Heidi   Phone       1.0       900.0  2024-05-24  Unknown   \n",
      "\n",
      "   total_price price_band  \n",
      "0        900.0        Low  \n",
      "1       1200.0     Medium  \n",
      "2       1200.0     Medium  \n",
      "3        900.0        Low  \n",
      "\n",
      " Data successfully saved in SQLite format to loaded/\n"
     ]
    }
   ],
   "source": [
    "#  ETL Load Phase (using SQLite)\n",
    "# Load transformed data and save to SQLite DB\n",
    "\n",
    "import pandas as pd\n",
    "import sqlite3\n",
    "import os\n",
    "\n",
    "# Step 1: Load transformed CSV files\n",
    "full_df = pd.read_csv(\"transformed/transformed_full.csv\")\n",
    "incr_df = pd.read_csv(\"transformed/transformed_incremental.csv\")\n",
    "\n",
    "# Step 2: Create 'loaded' folder\n",
    "os.makedirs(\"loaded\", exist_ok=True)\n",
    "\n",
    "# Step 3: Create SQLite DBs and load data\n",
    "full_conn = sqlite3.connect(\"loaded/full_data.db\")\n",
    "incr_conn = sqlite3.connect(\"loaded/incremental_data.db\")\n",
    "\n",
    "# Step 4: Save as tables\n",
    "full_df.to_sql(\"orders\", full_conn, if_exists=\"replace\", index=False)\n",
    "incr_df.to_sql(\"orders\", incr_conn, if_exists=\"replace\", index=False)\n",
    "\n",
    "# Step 5: Preview from SQLite DBs\n",
    "print(\" Preview from full_data.db:\")\n",
    "print(pd.read_sql_query(\"SELECT * FROM orders LIMIT 5;\", full_conn))\n",
    "\n",
    "print(\"\\n Preview from incremental_data.db:\")\n",
    "print(pd.read_sql_query(\"SELECT * FROM orders LIMIT 5;\", incr_conn))\n",
    "\n",
    "# Step 6: Close connections\n",
    "full_conn.close()\n",
    "incr_conn.close()\n",
    "\n",
    "print(\"\\n Data successfully saved in SQLite format to loaded/\")\n"
   ]
  }
 ],
 "metadata": {
  "kernelspec": {
   "display_name": "Python 3",
   "language": "python",
   "name": "python3"
  },
  "language_info": {
   "codemirror_mode": {
    "name": "ipython",
    "version": 3
   },
   "file_extension": ".py",
   "mimetype": "text/x-python",
   "name": "python",
   "nbconvert_exporter": "python",
   "pygments_lexer": "ipython3",
   "version": "3.13.5"
  }
 },
 "nbformat": 4,
 "nbformat_minor": 5
}
